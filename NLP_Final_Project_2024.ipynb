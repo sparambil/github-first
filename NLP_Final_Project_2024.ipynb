{
  "cells": [
    {
      "cell_type": "markdown",
      "metadata": {
        "id": "view-in-github",
        "colab_type": "text"
      },
      "source": [
        "<a href=\"https://colab.research.google.com/github/sparambil/github-first/blob/master/NLP_Final_Project_2024.ipynb\" target=\"_parent\"><img src=\"https://colab.research.google.com/assets/colab-badge.svg\" alt=\"Open In Colab\"/></a>"
      ]
    },
    {
      "cell_type": "code",
      "execution_count": null,
      "metadata": {
        "colab": {
          "base_uri": "https://localhost:8080/"
        },
        "id": "nb693MzkwSny",
        "outputId": "5fb7df57-6279-4f88-aa45-0840d6c69e24"
      },
      "outputs": [
        {
          "name": "stdout",
          "output_type": "stream",
          "text": [
            "fatal: destination path 'github-first' already exists and is not an empty directory.\n"
          ]
        }
      ],
      "source": [
        "!git clone https://github.com/sparambil/github-first.git"
      ]
    },
    {
      "cell_type": "code",
      "execution_count": null,
      "metadata": {
        "colab": {
          "base_uri": "https://localhost:8080/"
        },
        "id": "Dgcpe9uS5_ky",
        "outputId": "50f5a03a-1160-4719-d078-d30b30eac831"
      },
      "outputs": [
        {
          "name": "stdout",
          "output_type": "stream",
          "text": [
            "Cloning into 'fp-dataset-artifacts'...\n",
            "Host key verification failed.\n",
            "fatal: Could not read from remote repository.\n",
            "\n",
            "Please make sure you have the correct access rights\n",
            "and the repository exists.\n"
          ]
        }
      ],
      "source": [
        "!git clone git@github.com:gregdurrett/fp-dataset-artifacts.git"
      ]
    },
    {
      "cell_type": "code",
      "execution_count": null,
      "metadata": {
        "id": "esIS-41K6AGn"
      },
      "outputs": [],
      "source": []
    },
    {
      "cell_type": "code",
      "execution_count": 3,
      "metadata": {
        "colab": {
          "base_uri": "https://localhost:8080/"
        },
        "id": "m-ZcMHxRwjBF",
        "outputId": "d9b37a6f-c9ad-4ab5-86e3-1c90dac3a864"
      },
      "outputs": [
        {
          "output_type": "stream",
          "name": "stdout",
          "text": [
            "Requirement already satisfied: pip in /usr/local/lib/python3.10/dist-packages (24.1.2)\n",
            "Collecting pip\n",
            "  Downloading pip-24.3.1-py3-none-any.whl.metadata (3.7 kB)\n",
            "Downloading pip-24.3.1-py3-none-any.whl (1.8 MB)\n",
            "\u001b[?25l   \u001b[90m━━━━━━━━━━━━━━━━━━━━━━━━━━━━━━━━━━━━━━━━\u001b[0m \u001b[32m0.0/1.8 MB\u001b[0m \u001b[31m?\u001b[0m eta \u001b[36m-:--:--\u001b[0m\r\u001b[2K   \u001b[90m━━━━━━━━━━━━━━━━━━━━━━━━━━━━━━━━━━━━━━━━\u001b[0m \u001b[32m1.8/1.8 MB\u001b[0m \u001b[31m64.7 MB/s\u001b[0m eta \u001b[36m0:00:00\u001b[0m\n",
            "\u001b[?25hInstalling collected packages: pip\n",
            "  Attempting uninstall: pip\n",
            "    Found existing installation: pip 24.1.2\n",
            "    Uninstalling pip-24.1.2:\n",
            "      Successfully uninstalled pip-24.1.2\n",
            "Successfully installed pip-24.3.1\n"
          ]
        }
      ],
      "source": [
        "!pip install --upgrade pip"
      ]
    },
    {
      "cell_type": "code",
      "execution_count": 1,
      "metadata": {
        "colab": {
          "base_uri": "https://localhost:8080/"
        },
        "id": "xQo0PPReoiJh",
        "outputId": "28604aa8-981f-4298-f404-96dc78072a81"
      },
      "outputs": [
        {
          "output_type": "stream",
          "name": "stdout",
          "text": [
            "/content\n"
          ]
        }
      ],
      "source": [
        "cd /content/"
      ]
    },
    {
      "cell_type": "code",
      "execution_count": 4,
      "metadata": {
        "colab": {
          "base_uri": "https://localhost:8080/"
        },
        "id": "LMJDGBhYwroI",
        "outputId": "43d0b1ae-95b2-484c-f90f-21eac8422645"
      },
      "outputs": [
        {
          "output_type": "stream",
          "name": "stdout",
          "text": [
            "Requirement already satisfied: accelerate in /usr/local/lib/python3.10/dist-packages (from -r /content/requirements.txt (line 1)) (1.1.1)\n",
            "Requirement already satisfied: datasets in /usr/local/lib/python3.10/dist-packages (from -r /content/requirements.txt (line 2)) (3.1.0)\n",
            "Requirement already satisfied: torch in /usr/local/lib/python3.10/dist-packages (from -r /content/requirements.txt (line 3)) (2.5.0+cu121)\n",
            "Requirement already satisfied: tqdm in /usr/local/lib/python3.10/dist-packages (from -r /content/requirements.txt (line 4)) (4.66.6)\n",
            "Requirement already satisfied: transformers in /usr/local/lib/python3.10/dist-packages (from -r /content/requirements.txt (line 5)) (4.46.2)\n",
            "Requirement already satisfied: evaluate in /usr/local/lib/python3.10/dist-packages (from -r /content/requirements.txt (line 6)) (0.4.3)\n",
            "Requirement already satisfied: huggingface-hub>=0.21.0 in /usr/local/lib/python3.10/dist-packages (from accelerate->-r /content/requirements.txt (line 1)) (0.26.2)\n",
            "Requirement already satisfied: numpy<3.0.0,>=1.17 in /usr/local/lib/python3.10/dist-packages (from accelerate->-r /content/requirements.txt (line 1)) (1.26.4)\n",
            "Requirement already satisfied: packaging>=20.0 in /usr/local/lib/python3.10/dist-packages (from accelerate->-r /content/requirements.txt (line 1)) (24.2)\n",
            "Requirement already satisfied: psutil in /usr/local/lib/python3.10/dist-packages (from accelerate->-r /content/requirements.txt (line 1)) (5.9.5)\n",
            "Requirement already satisfied: pyyaml in /usr/local/lib/python3.10/dist-packages (from accelerate->-r /content/requirements.txt (line 1)) (6.0.2)\n",
            "Requirement already satisfied: safetensors>=0.4.3 in /usr/local/lib/python3.10/dist-packages (from accelerate->-r /content/requirements.txt (line 1)) (0.4.5)\n",
            "Requirement already satisfied: filelock in /usr/local/lib/python3.10/dist-packages (from datasets->-r /content/requirements.txt (line 2)) (3.16.1)\n",
            "Requirement already satisfied: pyarrow>=15.0.0 in /usr/local/lib/python3.10/dist-packages (from datasets->-r /content/requirements.txt (line 2)) (17.0.0)\n",
            "Requirement already satisfied: dill<0.3.9,>=0.3.0 in /usr/local/lib/python3.10/dist-packages (from datasets->-r /content/requirements.txt (line 2)) (0.3.8)\n",
            "Requirement already satisfied: pandas in /usr/local/lib/python3.10/dist-packages (from datasets->-r /content/requirements.txt (line 2)) (2.2.2)\n",
            "Requirement already satisfied: requests>=2.32.2 in /usr/local/lib/python3.10/dist-packages (from datasets->-r /content/requirements.txt (line 2)) (2.32.3)\n",
            "Requirement already satisfied: xxhash in /usr/local/lib/python3.10/dist-packages (from datasets->-r /content/requirements.txt (line 2)) (3.5.0)\n",
            "Requirement already satisfied: multiprocess<0.70.17 in /usr/local/lib/python3.10/dist-packages (from datasets->-r /content/requirements.txt (line 2)) (0.70.16)\n",
            "Requirement already satisfied: fsspec<=2024.9.0,>=2023.1.0 in /usr/local/lib/python3.10/dist-packages (from fsspec[http]<=2024.9.0,>=2023.1.0->datasets->-r /content/requirements.txt (line 2)) (2024.9.0)\n",
            "Requirement already satisfied: aiohttp in /usr/local/lib/python3.10/dist-packages (from datasets->-r /content/requirements.txt (line 2)) (3.10.10)\n",
            "Requirement already satisfied: typing-extensions>=4.8.0 in /usr/local/lib/python3.10/dist-packages (from torch->-r /content/requirements.txt (line 3)) (4.12.2)\n",
            "Requirement already satisfied: networkx in /usr/local/lib/python3.10/dist-packages (from torch->-r /content/requirements.txt (line 3)) (3.4.2)\n",
            "Requirement already satisfied: jinja2 in /usr/local/lib/python3.10/dist-packages (from torch->-r /content/requirements.txt (line 3)) (3.1.4)\n",
            "Requirement already satisfied: sympy==1.13.1 in /usr/local/lib/python3.10/dist-packages (from torch->-r /content/requirements.txt (line 3)) (1.13.1)\n",
            "Requirement already satisfied: mpmath<1.4,>=1.1.0 in /usr/local/lib/python3.10/dist-packages (from sympy==1.13.1->torch->-r /content/requirements.txt (line 3)) (1.3.0)\n",
            "Requirement already satisfied: regex!=2019.12.17 in /usr/local/lib/python3.10/dist-packages (from transformers->-r /content/requirements.txt (line 5)) (2024.9.11)\n",
            "Requirement already satisfied: tokenizers<0.21,>=0.20 in /usr/local/lib/python3.10/dist-packages (from transformers->-r /content/requirements.txt (line 5)) (0.20.3)\n",
            "Requirement already satisfied: aiohappyeyeballs>=2.3.0 in /usr/local/lib/python3.10/dist-packages (from aiohttp->datasets->-r /content/requirements.txt (line 2)) (2.4.3)\n",
            "Requirement already satisfied: aiosignal>=1.1.2 in /usr/local/lib/python3.10/dist-packages (from aiohttp->datasets->-r /content/requirements.txt (line 2)) (1.3.1)\n",
            "Requirement already satisfied: attrs>=17.3.0 in /usr/local/lib/python3.10/dist-packages (from aiohttp->datasets->-r /content/requirements.txt (line 2)) (24.2.0)\n",
            "Requirement already satisfied: frozenlist>=1.1.1 in /usr/local/lib/python3.10/dist-packages (from aiohttp->datasets->-r /content/requirements.txt (line 2)) (1.5.0)\n",
            "Requirement already satisfied: multidict<7.0,>=4.5 in /usr/local/lib/python3.10/dist-packages (from aiohttp->datasets->-r /content/requirements.txt (line 2)) (6.1.0)\n",
            "Requirement already satisfied: yarl<2.0,>=1.12.0 in /usr/local/lib/python3.10/dist-packages (from aiohttp->datasets->-r /content/requirements.txt (line 2)) (1.17.1)\n",
            "Requirement already satisfied: async-timeout<5.0,>=4.0 in /usr/local/lib/python3.10/dist-packages (from aiohttp->datasets->-r /content/requirements.txt (line 2)) (4.0.3)\n",
            "Requirement already satisfied: charset-normalizer<4,>=2 in /usr/local/lib/python3.10/dist-packages (from requests>=2.32.2->datasets->-r /content/requirements.txt (line 2)) (3.4.0)\n",
            "Requirement already satisfied: idna<4,>=2.5 in /usr/local/lib/python3.10/dist-packages (from requests>=2.32.2->datasets->-r /content/requirements.txt (line 2)) (3.10)\n",
            "Requirement already satisfied: urllib3<3,>=1.21.1 in /usr/local/lib/python3.10/dist-packages (from requests>=2.32.2->datasets->-r /content/requirements.txt (line 2)) (2.2.3)\n",
            "Requirement already satisfied: certifi>=2017.4.17 in /usr/local/lib/python3.10/dist-packages (from requests>=2.32.2->datasets->-r /content/requirements.txt (line 2)) (2024.8.30)\n",
            "Requirement already satisfied: MarkupSafe>=2.0 in /usr/local/lib/python3.10/dist-packages (from jinja2->torch->-r /content/requirements.txt (line 3)) (3.0.2)\n",
            "Requirement already satisfied: python-dateutil>=2.8.2 in /usr/local/lib/python3.10/dist-packages (from pandas->datasets->-r /content/requirements.txt (line 2)) (2.8.2)\n",
            "Requirement already satisfied: pytz>=2020.1 in /usr/local/lib/python3.10/dist-packages (from pandas->datasets->-r /content/requirements.txt (line 2)) (2024.2)\n",
            "Requirement already satisfied: tzdata>=2022.7 in /usr/local/lib/python3.10/dist-packages (from pandas->datasets->-r /content/requirements.txt (line 2)) (2024.2)\n",
            "Requirement already satisfied: six>=1.5 in /usr/local/lib/python3.10/dist-packages (from python-dateutil>=2.8.2->pandas->datasets->-r /content/requirements.txt (line 2)) (1.16.0)\n",
            "Requirement already satisfied: propcache>=0.2.0 in /usr/local/lib/python3.10/dist-packages (from yarl<2.0,>=1.12.0->aiohttp->datasets->-r /content/requirements.txt (line 2)) (0.2.0)\n"
          ]
        }
      ],
      "source": [
        "!pip install -r /content/requirements.txt"
      ]
    },
    {
      "cell_type": "code",
      "execution_count": null,
      "metadata": {
        "colab": {
          "base_uri": "https://localhost:8080/"
        },
        "id": "SY-Q-gSU2bp_",
        "outputId": "32c4629d-41dc-4e41-c50a-5e93b34c73e2"
      },
      "outputs": [
        {
          "name": "stdout",
          "output_type": "stream",
          "text": [
            "/\n"
          ]
        }
      ],
      "source": [
        "cd ..\n"
      ]
    },
    {
      "cell_type": "code",
      "execution_count": null,
      "metadata": {
        "colab": {
          "base_uri": "https://localhost:8080/"
        },
        "id": "OEf_c3MN2kuk",
        "outputId": "4110b139-da71-45f1-f471-af61944e65ab"
      },
      "outputs": [
        {
          "name": "stdout",
          "output_type": "stream",
          "text": [
            "helpers.py  requirements.txt  run.py  \u001b[0m\u001b[01;34msample_data\u001b[0m/\n"
          ]
        }
      ],
      "source": [
        "ls"
      ]
    },
    {
      "cell_type": "code",
      "execution_count": null,
      "metadata": {
        "colab": {
          "base_uri": "https://localhost:8080/"
        },
        "id": "QeWb29T387ec",
        "outputId": "1314c5e8-102c-44fa-d9cd-868633326daa"
      },
      "outputs": [
        {
          "name": "stdout",
          "output_type": "stream",
          "text": [
            "/content/github-first\n"
          ]
        }
      ],
      "source": [
        "cd github-first/"
      ]
    },
    {
      "cell_type": "code",
      "execution_count": null,
      "metadata": {
        "colab": {
          "base_uri": "https://localhost:8080/"
        },
        "id": "gjSIBNoW899a",
        "outputId": "c711888c-0d64-4053-e03e-6b9e7d7a2a5c"
      },
      "outputs": [
        {
          "name": "stdout",
          "output_type": "stream",
          "text": [
            "'fp-dataset-artifacts-main (1).zip'   helpers.py   README.md   requirements.txt   run.py\n"
          ]
        }
      ],
      "source": [
        "ls"
      ]
    },
    {
      "cell_type": "code",
      "execution_count": null,
      "metadata": {
        "colab": {
          "base_uri": "https://localhost:8080/"
        },
        "id": "3EVw5DQvb9j4",
        "outputId": "db64cc39-4091-42f9-a153-b5a65d1530f6"
      },
      "outputs": [
        {
          "name": "stdout",
          "output_type": "stream",
          "text": [
            "/content\n"
          ]
        }
      ],
      "source": [
        "cd /content"
      ]
    },
    {
      "cell_type": "code",
      "execution_count": null,
      "metadata": {
        "colab": {
          "base_uri": "https://localhost:8080/"
        },
        "id": "CXSa5OQLcEZa",
        "outputId": "85fa77c2-fba6-476c-f9f7-718551e6cc80"
      },
      "outputs": [
        {
          "name": "stdout",
          "output_type": "stream",
          "text": [
            "\u001b[0m\u001b[01;34mgithub-first\u001b[0m/  \u001b[01;34m__pycache__\u001b[0m/  \u001b[01;34msample_data\u001b[0m/\n"
          ]
        }
      ],
      "source": [
        "ls\n"
      ]
    },
    {
      "cell_type": "code",
      "execution_count": null,
      "metadata": {
        "colab": {
          "base_uri": "https://localhost:8080/"
        },
        "id": "cYlL8nadCEQ_",
        "outputId": "aabb1387-2251-4d01-a2c8-b224b0cd8880"
      },
      "outputs": [
        {
          "name": "stdout",
          "output_type": "stream",
          "text": [
            "Requirement already satisfied: accelerate in /usr/local/lib/python3.10/dist-packages (from -r /content/github-first/requirements.txt (line 1)) (0.34.2)\n",
            "Requirement already satisfied: datasets in /usr/local/lib/python3.10/dist-packages (from -r /content/github-first/requirements.txt (line 2)) (3.1.0)\n",
            "Requirement already satisfied: torch in /usr/local/lib/python3.10/dist-packages (from -r /content/github-first/requirements.txt (line 3)) (2.5.0+cu121)\n",
            "Requirement already satisfied: tqdm in /usr/local/lib/python3.10/dist-packages (from -r /content/github-first/requirements.txt (line 4)) (4.66.6)\n",
            "Requirement already satisfied: transformers in /usr/local/lib/python3.10/dist-packages (from -r /content/github-first/requirements.txt (line 5)) (4.44.2)\n",
            "Requirement already satisfied: evaluate in /usr/local/lib/python3.10/dist-packages (from -r /content/github-first/requirements.txt (line 6)) (0.4.3)\n",
            "Requirement already satisfied: numpy<3.0.0,>=1.17 in /usr/local/lib/python3.10/dist-packages (from accelerate->-r /content/github-first/requirements.txt (line 1)) (1.26.4)\n",
            "Requirement already satisfied: packaging>=20.0 in /usr/local/lib/python3.10/dist-packages (from accelerate->-r /content/github-first/requirements.txt (line 1)) (24.1)\n",
            "Requirement already satisfied: psutil in /usr/local/lib/python3.10/dist-packages (from accelerate->-r /content/github-first/requirements.txt (line 1)) (5.9.5)\n",
            "Requirement already satisfied: pyyaml in /usr/local/lib/python3.10/dist-packages (from accelerate->-r /content/github-first/requirements.txt (line 1)) (6.0.2)\n",
            "Requirement already satisfied: huggingface-hub>=0.21.0 in /usr/local/lib/python3.10/dist-packages (from accelerate->-r /content/github-first/requirements.txt (line 1)) (0.24.7)\n",
            "Requirement already satisfied: safetensors>=0.4.3 in /usr/local/lib/python3.10/dist-packages (from accelerate->-r /content/github-first/requirements.txt (line 1)) (0.4.5)\n",
            "Requirement already satisfied: filelock in /usr/local/lib/python3.10/dist-packages (from datasets->-r /content/github-first/requirements.txt (line 2)) (3.16.1)\n",
            "Requirement already satisfied: pyarrow>=15.0.0 in /usr/local/lib/python3.10/dist-packages (from datasets->-r /content/github-first/requirements.txt (line 2)) (17.0.0)\n",
            "Requirement already satisfied: dill<0.3.9,>=0.3.0 in /usr/local/lib/python3.10/dist-packages (from datasets->-r /content/github-first/requirements.txt (line 2)) (0.3.8)\n",
            "Requirement already satisfied: pandas in /usr/local/lib/python3.10/dist-packages (from datasets->-r /content/github-first/requirements.txt (line 2)) (2.2.2)\n",
            "Requirement already satisfied: requests>=2.32.2 in /usr/local/lib/python3.10/dist-packages (from datasets->-r /content/github-first/requirements.txt (line 2)) (2.32.3)\n",
            "Requirement already satisfied: xxhash in /usr/local/lib/python3.10/dist-packages (from datasets->-r /content/github-first/requirements.txt (line 2)) (3.5.0)\n",
            "Requirement already satisfied: multiprocess<0.70.17 in /usr/local/lib/python3.10/dist-packages (from datasets->-r /content/github-first/requirements.txt (line 2)) (0.70.16)\n",
            "Requirement already satisfied: fsspec<=2024.9.0,>=2023.1.0 in /usr/local/lib/python3.10/dist-packages (from fsspec[http]<=2024.9.0,>=2023.1.0->datasets->-r /content/github-first/requirements.txt (line 2)) (2024.9.0)\n",
            "Requirement already satisfied: aiohttp in /usr/local/lib/python3.10/dist-packages (from datasets->-r /content/github-first/requirements.txt (line 2)) (3.10.10)\n",
            "Requirement already satisfied: typing-extensions>=4.8.0 in /usr/local/lib/python3.10/dist-packages (from torch->-r /content/github-first/requirements.txt (line 3)) (4.12.2)\n",
            "Requirement already satisfied: networkx in /usr/local/lib/python3.10/dist-packages (from torch->-r /content/github-first/requirements.txt (line 3)) (3.4.2)\n",
            "Requirement already satisfied: jinja2 in /usr/local/lib/python3.10/dist-packages (from torch->-r /content/github-first/requirements.txt (line 3)) (3.1.4)\n",
            "Requirement already satisfied: sympy==1.13.1 in /usr/local/lib/python3.10/dist-packages (from torch->-r /content/github-first/requirements.txt (line 3)) (1.13.1)\n",
            "Requirement already satisfied: mpmath<1.4,>=1.1.0 in /usr/local/lib/python3.10/dist-packages (from sympy==1.13.1->torch->-r /content/github-first/requirements.txt (line 3)) (1.3.0)\n",
            "Requirement already satisfied: regex!=2019.12.17 in /usr/local/lib/python3.10/dist-packages (from transformers->-r /content/github-first/requirements.txt (line 5)) (2024.9.11)\n",
            "Requirement already satisfied: tokenizers<0.20,>=0.19 in /usr/local/lib/python3.10/dist-packages (from transformers->-r /content/github-first/requirements.txt (line 5)) (0.19.1)\n",
            "Requirement already satisfied: aiohappyeyeballs>=2.3.0 in /usr/local/lib/python3.10/dist-packages (from aiohttp->datasets->-r /content/github-first/requirements.txt (line 2)) (2.4.3)\n",
            "Requirement already satisfied: aiosignal>=1.1.2 in /usr/local/lib/python3.10/dist-packages (from aiohttp->datasets->-r /content/github-first/requirements.txt (line 2)) (1.3.1)\n",
            "Requirement already satisfied: attrs>=17.3.0 in /usr/local/lib/python3.10/dist-packages (from aiohttp->datasets->-r /content/github-first/requirements.txt (line 2)) (24.2.0)\n",
            "Requirement already satisfied: frozenlist>=1.1.1 in /usr/local/lib/python3.10/dist-packages (from aiohttp->datasets->-r /content/github-first/requirements.txt (line 2)) (1.5.0)\n",
            "Requirement already satisfied: multidict<7.0,>=4.5 in /usr/local/lib/python3.10/dist-packages (from aiohttp->datasets->-r /content/github-first/requirements.txt (line 2)) (6.1.0)\n",
            "Requirement already satisfied: yarl<2.0,>=1.12.0 in /usr/local/lib/python3.10/dist-packages (from aiohttp->datasets->-r /content/github-first/requirements.txt (line 2)) (1.17.1)\n",
            "Requirement already satisfied: async-timeout<5.0,>=4.0 in /usr/local/lib/python3.10/dist-packages (from aiohttp->datasets->-r /content/github-first/requirements.txt (line 2)) (4.0.3)\n",
            "Requirement already satisfied: charset-normalizer<4,>=2 in /usr/local/lib/python3.10/dist-packages (from requests>=2.32.2->datasets->-r /content/github-first/requirements.txt (line 2)) (3.4.0)\n",
            "Requirement already satisfied: idna<4,>=2.5 in /usr/local/lib/python3.10/dist-packages (from requests>=2.32.2->datasets->-r /content/github-first/requirements.txt (line 2)) (3.10)\n",
            "Requirement already satisfied: urllib3<3,>=1.21.1 in /usr/local/lib/python3.10/dist-packages (from requests>=2.32.2->datasets->-r /content/github-first/requirements.txt (line 2)) (2.2.3)\n",
            "Requirement already satisfied: certifi>=2017.4.17 in /usr/local/lib/python3.10/dist-packages (from requests>=2.32.2->datasets->-r /content/github-first/requirements.txt (line 2)) (2024.8.30)\n",
            "Requirement already satisfied: MarkupSafe>=2.0 in /usr/local/lib/python3.10/dist-packages (from jinja2->torch->-r /content/github-first/requirements.txt (line 3)) (3.0.2)\n",
            "Requirement already satisfied: python-dateutil>=2.8.2 in /usr/local/lib/python3.10/dist-packages (from pandas->datasets->-r /content/github-first/requirements.txt (line 2)) (2.8.2)\n",
            "Requirement already satisfied: pytz>=2020.1 in /usr/local/lib/python3.10/dist-packages (from pandas->datasets->-r /content/github-first/requirements.txt (line 2)) (2024.2)\n",
            "Requirement already satisfied: tzdata>=2022.7 in /usr/local/lib/python3.10/dist-packages (from pandas->datasets->-r /content/github-first/requirements.txt (line 2)) (2024.2)\n",
            "Requirement already satisfied: six>=1.5 in /usr/local/lib/python3.10/dist-packages (from python-dateutil>=2.8.2->pandas->datasets->-r /content/github-first/requirements.txt (line 2)) (1.16.0)\n",
            "Requirement already satisfied: propcache>=0.2.0 in /usr/local/lib/python3.10/dist-packages (from yarl<2.0,>=1.12.0->aiohttp->datasets->-r /content/github-first/requirements.txt (line 2)) (0.2.0)\n"
          ]
        }
      ],
      "source": [
        "!pip install -r /content/github-first/requirements.txt"
      ]
    },
    {
      "cell_type": "code",
      "execution_count": null,
      "metadata": {
        "colab": {
          "base_uri": "https://localhost:8080/"
        },
        "id": "7cqSNgZ4eyzJ",
        "outputId": "a1af9472-d57f-46f0-eeed-3ba8cfe53fce"
      },
      "outputs": [
        {
          "name": "stdout",
          "output_type": "stream",
          "text": [
            "/content\n"
          ]
        }
      ],
      "source": [
        "cd ..\n"
      ]
    },
    {
      "cell_type": "code",
      "execution_count": null,
      "metadata": {
        "colab": {
          "base_uri": "https://localhost:8080/"
        },
        "id": "BB2jrmtPe3mi",
        "outputId": "70b755c7-3d40-4cc7-afcf-6e0a2a904d61"
      },
      "outputs": [
        {
          "name": "stdout",
          "output_type": "stream",
          "text": [
            "/content/github-first\n"
          ]
        }
      ],
      "source": [
        "cd /content/github-first"
      ]
    },
    {
      "cell_type": "markdown",
      "metadata": {
        "id": "KPMBP3Bhsocr"
      },
      "source": []
    },
    {
      "cell_type": "code",
      "execution_count": 5,
      "metadata": {
        "colab": {
          "base_uri": "https://localhost:8080/"
        },
        "id": "GYolqwPM15JM",
        "outputId": "f845382d-495e-4acc-a271-14aee54cf7f8"
      },
      "outputs": [
        {
          "output_type": "stream",
          "name": "stdout",
          "text": [
            "2024-11-14 17:14:43.462931: E external/local_xla/xla/stream_executor/cuda/cuda_fft.cc:485] Unable to register cuFFT factory: Attempting to register factory for plugin cuFFT when one has already been registered\n",
            "2024-11-14 17:14:43.482537: E external/local_xla/xla/stream_executor/cuda/cuda_dnn.cc:8454] Unable to register cuDNN factory: Attempting to register factory for plugin cuDNN when one has already been registered\n",
            "2024-11-14 17:14:43.488596: E external/local_xla/xla/stream_executor/cuda/cuda_blas.cc:1452] Unable to register cuBLAS factory: Attempting to register factory for plugin cuBLAS when one has already been registered\n",
            "2024-11-14 17:14:43.503119: I tensorflow/core/platform/cpu_feature_guard.cc:210] This TensorFlow binary is optimized to use available CPU instructions in performance-critical operations.\n",
            "To enable the following instructions: AVX2 AVX512F FMA, in other operations, rebuild TensorFlow with the appropriate compiler flags.\n",
            "2024-11-14 17:14:44.708500: W tensorflow/compiler/tf2tensorrt/utils/py_utils.cc:38] TF-TRT Warning: Could not find TensorRT\n",
            "README.md: 100% 16.0k/16.0k [00:00<00:00, 58.5MB/s]\n",
            "test-00000-of-00001.parquet: 100% 412k/412k [00:00<00:00, 39.1MB/s]\n",
            "validation-00000-of-00001.parquet: 100% 413k/413k [00:00<00:00, 67.2MB/s]\n",
            "train-00000-of-00001.parquet: 100% 19.6M/19.6M [00:00<00:00, 208MB/s]\n",
            "Generating test split: 100% 10000/10000 [00:00<00:00, 246523.65 examples/s]\n",
            "Generating validation split: 100% 10000/10000 [00:00<00:00, 1211001.59 examples/s]\n",
            "Generating train split: 100% 550152/550152 [00:00<00:00, 1471669.85 examples/s]\n",
            "config.json: 100% 665/665 [00:00<00:00, 5.10MB/s]\n",
            "pytorch_model.bin: 100% 54.2M/54.2M [00:00<00:00, 244MB/s]\n",
            "Some weights of ElectraForSequenceClassification were not initialized from the model checkpoint at google/electra-small-discriminator and are newly initialized: ['classifier.dense.bias', 'classifier.dense.weight', 'classifier.out_proj.bias', 'classifier.out_proj.weight']\n",
            "You should probably TRAIN this model on a down-stream task to be able to use it for predictions and inference.\n",
            "tokenizer_config.json: 100% 48.0/48.0 [00:00<00:00, 327kB/s]\n",
            "vocab.txt: 100% 232k/232k [00:00<00:00, 530kB/s]\n",
            "tokenizer.json: 100% 466k/466k [00:01<00:00, 357kB/s]\n",
            "Preprocessing data... (this takes a little bit, should only happen once per dataset)\n",
            "Filter: 100% 10000/10000 [00:00<00:00, 174760.48 examples/s]\n",
            "Filter: 100% 10000/10000 [00:00<00:00, 238353.36 examples/s]\n",
            "Filter:  77% 422000/550152 [00:01<00:00, 249854.54 examples/s]\n",
            "Filter:  95% 524000/550152 [00:02<00:00, 243730.35 examples/s]\n",
            "Filter: 100% 550152/550152 [00:02<00:00, 247902.10 examples/s]\n",
            "Map (num_proc=2):   0% 0/549367 [00:00<?, ? examples/s]\n",
            "model.safetensors:  39% 21.0M/54.2M [00:00<00:00, 39.7MB/s]\u001b[A\n",
            "model.safetensors: 100% 54.2M/54.2M [00:00<00:00, 79.0MB/s]\n",
            "Map (num_proc=2): 100% 549367/549367 [00:50<00:00, 10949.33 examples/s]\n",
            "/content/run.py:159: FutureWarning: `tokenizer` is deprecated and will be removed in version 5.0.0 for `Trainer.__init__`. Use `processing_class` instead.\n",
            "  trainer = trainer_class(\n",
            "\u001b[34m\u001b[1mwandb\u001b[0m: \u001b[33mWARNING\u001b[0m The `run_name` is currently set to the same value as `TrainingArguments.output_dir`. If this was not intended, please specify a different run name by setting the `TrainingArguments.run_name` parameter.\n",
            "\u001b[34m\u001b[1mwandb\u001b[0m: Using wandb-core as the SDK backend.  Please refer to https://wandb.me/wandb-core for more information.\n",
            "\u001b[34m\u001b[1mwandb\u001b[0m: (1) Create a W&B account\n",
            "\u001b[34m\u001b[1mwandb\u001b[0m: (2) Use an existing W&B account\n",
            "\u001b[34m\u001b[1mwandb\u001b[0m: (3) Don't visualize my results\n",
            "\u001b[34m\u001b[1mwandb\u001b[0m: Enter your choice: 1\n",
            "\u001b[34m\u001b[1mwandb\u001b[0m: You chose 'Create a W&B account'\n",
            "\u001b[34m\u001b[1mwandb\u001b[0m: Create an account here: https://wandb.ai/authorize?signup=true\n",
            "\u001b[34m\u001b[1mwandb\u001b[0m: Paste an API key from your profile and hit enter, or press ctrl+c to quit: \n",
            "\u001b[34m\u001b[1mwandb\u001b[0m: Appending key for api.wandb.ai to your netrc file: /root/.netrc\n",
            "\u001b[34m\u001b[1mwandb\u001b[0m: Tracking run with wandb version 0.18.6\n",
            "\u001b[34m\u001b[1mwandb\u001b[0m: Run data is saved locally in \u001b[35m\u001b[1m/content/wandb/run-20241114_171627-42tpx0u4\u001b[0m\n",
            "\u001b[34m\u001b[1mwandb\u001b[0m: Run \u001b[1m`wandb offline`\u001b[0m to turn off syncing.\n",
            "\u001b[34m\u001b[1mwandb\u001b[0m: Syncing run \u001b[33m./trained_model/\u001b[0m\n",
            "\u001b[34m\u001b[1mwandb\u001b[0m: ⭐️ View project at \u001b[34m\u001b[4mhttps://wandb.ai/skp4318-utaustin/huggingface\u001b[0m\n",
            "\u001b[34m\u001b[1mwandb\u001b[0m: 🚀 View run at \u001b[34m\u001b[4mhttps://wandb.ai/skp4318-utaustin/huggingface/runs/42tpx0u4\u001b[0m\n",
            "  0% 345/85840 [00:36<2:27:14,  9.68it/s]6abd053d95901b350f82dfb73b80f39b2d0aed04\n",
            "{'loss': 0.7915, 'grad_norm': 5.961404800415039, 'learning_rate': 4.970876048462256e-05, 'epoch': 0.03}\n",
            "{'loss': 0.5944, 'grad_norm': 7.3305253982543945, 'learning_rate': 4.9417520969245104e-05, 'epoch': 0.06}\n",
            "{'loss': 0.5451, 'grad_norm': 6.279290676116943, 'learning_rate': 4.912628145386766e-05, 'epoch': 0.09}\n",
            "{'loss': 0.5361, 'grad_norm': 4.840472221374512, 'learning_rate': 4.883504193849022e-05, 'epoch': 0.12}\n",
            "{'loss': 0.514, 'grad_norm': 10.96278190612793, 'learning_rate': 4.854380242311277e-05, 'epoch': 0.15}\n",
            "{'loss': 0.4958, 'grad_norm': 7.2145280838012695, 'learning_rate': 4.825256290773532e-05, 'epoch': 0.17}\n",
            "{'loss': 0.4861, 'grad_norm': 12.722867965698242, 'learning_rate': 4.796132339235788e-05, 'epoch': 0.2}\n",
            "{'loss': 0.4752, 'grad_norm': 7.230447292327881, 'learning_rate': 4.767008387698043e-05, 'epoch': 0.23}\n",
            "{'loss': 0.4593, 'grad_norm': 14.936715126037598, 'learning_rate': 4.737884436160299e-05, 'epoch': 0.26}\n",
            "{'loss': 0.4636, 'grad_norm': 5.251931190490723, 'learning_rate': 4.708760484622554e-05, 'epoch': 0.29}\n",
            "{'loss': 0.4523, 'grad_norm': 6.632837295532227, 'learning_rate': 4.679636533084809e-05, 'epoch': 0.32}\n",
            "{'loss': 0.4432, 'grad_norm': 6.212611198425293, 'learning_rate': 4.650512581547065e-05, 'epoch': 0.35}\n",
            "{'loss': 0.4325, 'grad_norm': 5.023411273956299, 'learning_rate': 4.62138863000932e-05, 'epoch': 0.38}\n",
            "{'loss': 0.4423, 'grad_norm': 7.760178089141846, 'learning_rate': 4.592264678471575e-05, 'epoch': 0.41}\n",
            "{'loss': 0.4371, 'grad_norm': 5.166744232177734, 'learning_rate': 4.563140726933831e-05, 'epoch': 0.44}\n",
            "{'loss': 0.4356, 'grad_norm': 6.061750411987305, 'learning_rate': 4.534016775396086e-05, 'epoch': 0.47}\n",
            "{'loss': 0.4211, 'grad_norm': 4.774492263793945, 'learning_rate': 4.5048928238583416e-05, 'epoch': 0.5}\n",
            "{'loss': 0.4216, 'grad_norm': 5.791306495666504, 'learning_rate': 4.475768872320597e-05, 'epoch': 0.52}\n",
            "{'loss': 0.4281, 'grad_norm': 4.420628070831299, 'learning_rate': 4.446644920782852e-05, 'epoch': 0.55}\n",
            "{'loss': 0.4258, 'grad_norm': 3.780492067337036, 'learning_rate': 4.4175209692451076e-05, 'epoch': 0.58}\n",
            "{'loss': 0.4157, 'grad_norm': 4.1423234939575195, 'learning_rate': 4.388397017707363e-05, 'epoch': 0.61}\n",
            "{'loss': 0.4209, 'grad_norm': 5.048596382141113, 'learning_rate': 4.359273066169618e-05, 'epoch': 0.64}\n",
            "{'loss': 0.4129, 'grad_norm': 3.4068076610565186, 'learning_rate': 4.3301491146318735e-05, 'epoch': 0.67}\n",
            "{'loss': 0.4102, 'grad_norm': 6.142681121826172, 'learning_rate': 4.3010251630941286e-05, 'epoch': 0.7}\n",
            "{'loss': 0.4079, 'grad_norm': 5.608057022094727, 'learning_rate': 4.271901211556384e-05, 'epoch': 0.73}\n",
            "{'loss': 0.415, 'grad_norm': 4.678142547607422, 'learning_rate': 4.2427772600186395e-05, 'epoch': 0.76}\n",
            "{'loss': 0.397, 'grad_norm': 7.548623085021973, 'learning_rate': 4.2136533084808946e-05, 'epoch': 0.79}\n",
            "{'loss': 0.3952, 'grad_norm': 4.274179935455322, 'learning_rate': 4.1845293569431504e-05, 'epoch': 0.82}\n",
            "{'loss': 0.3969, 'grad_norm': 7.5738983154296875, 'learning_rate': 4.1554054054054055e-05, 'epoch': 0.84}\n",
            "{'loss': 0.4038, 'grad_norm': 4.600482940673828, 'learning_rate': 4.1262814538676606e-05, 'epoch': 0.87}\n",
            "{'loss': 0.3987, 'grad_norm': 5.919188022613525, 'learning_rate': 4.097157502329916e-05, 'epoch': 0.9}\n",
            "{'loss': 0.3988, 'grad_norm': 9.310731887817383, 'learning_rate': 4.068033550792172e-05, 'epoch': 0.93}\n",
            "{'loss': 0.3959, 'grad_norm': 6.544322490692139, 'learning_rate': 4.0389095992544265e-05, 'epoch': 0.96}\n",
            "{'loss': 0.3863, 'grad_norm': 3.9526472091674805, 'learning_rate': 4.009785647716682e-05, 'epoch': 0.99}\n",
            "{'loss': 0.3666, 'grad_norm': 6.555240154266357, 'learning_rate': 3.980661696178938e-05, 'epoch': 1.02}\n",
            "{'loss': 0.3595, 'grad_norm': 5.7108941078186035, 'learning_rate': 3.951537744641193e-05, 'epoch': 1.05}\n",
            "{'loss': 0.3467, 'grad_norm': 6.434482097625732, 'learning_rate': 3.922413793103448e-05, 'epoch': 1.08}\n",
            "{'loss': 0.3604, 'grad_norm': 7.78020715713501, 'learning_rate': 3.893289841565704e-05, 'epoch': 1.11}\n",
            "{'loss': 0.3564, 'grad_norm': 8.463167190551758, 'learning_rate': 3.864165890027959e-05, 'epoch': 1.14}\n",
            "{'loss': 0.3684, 'grad_norm': 6.232167720794678, 'learning_rate': 3.835041938490215e-05, 'epoch': 1.16}\n",
            "{'loss': 0.3627, 'grad_norm': 6.136016368865967, 'learning_rate': 3.80591798695247e-05, 'epoch': 1.19}\n",
            "{'loss': 0.352, 'grad_norm': 4.485616683959961, 'learning_rate': 3.776794035414725e-05, 'epoch': 1.22}\n",
            "{'loss': 0.353, 'grad_norm': 6.335567951202393, 'learning_rate': 3.747670083876981e-05, 'epoch': 1.25}\n",
            "{'loss': 0.3418, 'grad_norm': 3.5806572437286377, 'learning_rate': 3.718546132339236e-05, 'epoch': 1.28}\n",
            "{'loss': 0.355, 'grad_norm': 5.079251289367676, 'learning_rate': 3.689422180801491e-05, 'epoch': 1.31}\n",
            "{'loss': 0.3523, 'grad_norm': 4.7418532371521, 'learning_rate': 3.660298229263747e-05, 'epoch': 1.34}\n",
            "{'loss': 0.352, 'grad_norm': 4.319878101348877, 'learning_rate': 3.631174277726002e-05, 'epoch': 1.37}\n",
            "{'loss': 0.35, 'grad_norm': 6.1012115478515625, 'learning_rate': 3.602050326188258e-05, 'epoch': 1.4}\n",
            "{'loss': 0.3494, 'grad_norm': 5.921863555908203, 'learning_rate': 3.572926374650513e-05, 'epoch': 1.43}\n",
            "{'loss': 0.3458, 'grad_norm': 4.571853160858154, 'learning_rate': 3.543802423112768e-05, 'epoch': 1.46}\n",
            "{'loss': 0.337, 'grad_norm': 7.7867584228515625, 'learning_rate': 3.514678471575024e-05, 'epoch': 1.49}\n",
            "{'loss': 0.3574, 'grad_norm': 10.09276294708252, 'learning_rate': 3.485554520037279e-05, 'epoch': 1.51}\n",
            "{'loss': 0.3458, 'grad_norm': 3.633702516555786, 'learning_rate': 3.456430568499534e-05, 'epoch': 1.54}\n",
            "{'loss': 0.3451, 'grad_norm': 3.631518840789795, 'learning_rate': 3.4273066169617896e-05, 'epoch': 1.57}\n",
            "{'loss': 0.3505, 'grad_norm': 4.688512802124023, 'learning_rate': 3.3981826654240454e-05, 'epoch': 1.6}\n",
            "{'loss': 0.3562, 'grad_norm': 5.074456214904785, 'learning_rate': 3.3690587138863e-05, 'epoch': 1.63}\n",
            "{'loss': 0.3484, 'grad_norm': 4.488838195800781, 'learning_rate': 3.3399347623485556e-05, 'epoch': 1.66}\n",
            "{'loss': 0.3446, 'grad_norm': 8.643038749694824, 'learning_rate': 3.310810810810811e-05, 'epoch': 1.69}\n",
            "{'loss': 0.347, 'grad_norm': 4.022316932678223, 'learning_rate': 3.2816868592730665e-05, 'epoch': 1.72}\n",
            "{'loss': 0.3482, 'grad_norm': 5.176283836364746, 'learning_rate': 3.2525629077353216e-05, 'epoch': 1.75}\n",
            "{'loss': 0.3432, 'grad_norm': 3.460108518600464, 'learning_rate': 3.2234389561975766e-05, 'epoch': 1.78}\n",
            "{'loss': 0.3406, 'grad_norm': 5.315122127532959, 'learning_rate': 3.1943150046598324e-05, 'epoch': 1.81}\n",
            "{'loss': 0.3428, 'grad_norm': 4.06817626953125, 'learning_rate': 3.165191053122088e-05, 'epoch': 1.83}\n",
            "{'loss': 0.336, 'grad_norm': 8.235125541687012, 'learning_rate': 3.1360671015843426e-05, 'epoch': 1.86}\n",
            "{'loss': 0.3438, 'grad_norm': 3.9982855319976807, 'learning_rate': 3.1069431500465984e-05, 'epoch': 1.89}\n",
            "{'loss': 0.3375, 'grad_norm': 5.215179443359375, 'learning_rate': 3.077819198508854e-05, 'epoch': 1.92}\n",
            "{'loss': 0.3351, 'grad_norm': 3.1221609115600586, 'learning_rate': 3.0486952469711093e-05, 'epoch': 1.95}\n",
            "{'loss': 0.3457, 'grad_norm': 5.217263698577881, 'learning_rate': 3.0195712954333644e-05, 'epoch': 1.98}\n",
            "{'loss': 0.3199, 'grad_norm': 6.620200157165527, 'learning_rate': 2.9904473438956198e-05, 'epoch': 2.01}\n",
            "{'loss': 0.2985, 'grad_norm': 7.251485824584961, 'learning_rate': 2.9613233923578752e-05, 'epoch': 2.04}\n",
            "{'loss': 0.2913, 'grad_norm': 6.468078136444092, 'learning_rate': 2.932199440820131e-05, 'epoch': 2.07}\n",
            "{'loss': 0.2856, 'grad_norm': 6.65169620513916, 'learning_rate': 2.9030754892823857e-05, 'epoch': 2.1}\n",
            "{'loss': 0.3011, 'grad_norm': 5.78095006942749, 'learning_rate': 2.8739515377446412e-05, 'epoch': 2.13}\n",
            "{'loss': 0.3056, 'grad_norm': 6.814445495605469, 'learning_rate': 2.844827586206897e-05, 'epoch': 2.16}\n",
            "{'loss': 0.3004, 'grad_norm': 3.96232008934021, 'learning_rate': 2.8157036346691517e-05, 'epoch': 2.18}\n",
            "{'loss': 0.3035, 'grad_norm': 5.598817825317383, 'learning_rate': 2.786579683131407e-05, 'epoch': 2.21}\n",
            "{'loss': 0.3101, 'grad_norm': 5.897918224334717, 'learning_rate': 2.757455731593663e-05, 'epoch': 2.24}\n",
            "{'loss': 0.2983, 'grad_norm': 9.392444610595703, 'learning_rate': 2.7283317800559184e-05, 'epoch': 2.27}\n",
            "{'loss': 0.3033, 'grad_norm': 5.1510396003723145, 'learning_rate': 2.699207828518173e-05, 'epoch': 2.3}\n",
            "{'loss': 0.306, 'grad_norm': 6.172422409057617, 'learning_rate': 2.670083876980429e-05, 'epoch': 2.33}\n",
            "{'loss': 0.2921, 'grad_norm': 5.2692365646362305, 'learning_rate': 2.6409599254426843e-05, 'epoch': 2.36}\n",
            "{'loss': 0.3081, 'grad_norm': 5.146819591522217, 'learning_rate': 2.6118359739049398e-05, 'epoch': 2.39}\n",
            "{'loss': 0.2969, 'grad_norm': 4.894924640655518, 'learning_rate': 2.5827120223671945e-05, 'epoch': 2.42}\n",
            "{'loss': 0.2975, 'grad_norm': 6.940857410430908, 'learning_rate': 2.5535880708294503e-05, 'epoch': 2.45}\n",
            "{'loss': 0.2941, 'grad_norm': 8.88020133972168, 'learning_rate': 2.5244641192917057e-05, 'epoch': 2.48}\n",
            "{'loss': 0.2993, 'grad_norm': 9.2767915725708, 'learning_rate': 2.4953401677539608e-05, 'epoch': 2.5}\n",
            "{'loss': 0.2996, 'grad_norm': 5.535917282104492, 'learning_rate': 2.4662162162162162e-05, 'epoch': 2.53}\n",
            "{'loss': 0.3032, 'grad_norm': 5.502111434936523, 'learning_rate': 2.4370922646784717e-05, 'epoch': 2.56}\n",
            "{'loss': 0.2973, 'grad_norm': 3.8587610721588135, 'learning_rate': 2.407968313140727e-05, 'epoch': 2.59}\n",
            "{'loss': 0.3008, 'grad_norm': 5.77370023727417, 'learning_rate': 2.3788443616029822e-05, 'epoch': 2.62}\n",
            "{'loss': 0.3009, 'grad_norm': 3.4555599689483643, 'learning_rate': 2.349720410065238e-05, 'epoch': 2.65}\n",
            "{'loss': 0.3013, 'grad_norm': 7.951767921447754, 'learning_rate': 2.320596458527493e-05, 'epoch': 2.68}\n",
            "{'loss': 0.2926, 'grad_norm': 6.032758712768555, 'learning_rate': 2.2914725069897485e-05, 'epoch': 2.71}\n",
            "{'loss': 0.2958, 'grad_norm': 7.093171119689941, 'learning_rate': 2.262348555452004e-05, 'epoch': 2.74}\n",
            "{'loss': 0.2972, 'grad_norm': 7.608460903167725, 'learning_rate': 2.2332246039142594e-05, 'epoch': 2.77}\n",
            "{'loss': 0.2981, 'grad_norm': 6.75091552734375, 'learning_rate': 2.2041006523765145e-05, 'epoch': 2.8}\n",
            "{'loss': 0.3013, 'grad_norm': 6.196447372436523, 'learning_rate': 2.17497670083877e-05, 'epoch': 2.83}\n",
            "{'loss': 0.3017, 'grad_norm': 6.122690677642822, 'learning_rate': 2.1458527493010253e-05, 'epoch': 2.85}\n",
            "{'loss': 0.2942, 'grad_norm': 5.22310209274292, 'learning_rate': 2.1167287977632808e-05, 'epoch': 2.88}\n",
            "{'loss': 0.3008, 'grad_norm': 5.829484939575195, 'learning_rate': 2.087604846225536e-05, 'epoch': 2.91}\n",
            "{'loss': 0.3022, 'grad_norm': 7.088405609130859, 'learning_rate': 2.0584808946877913e-05, 'epoch': 2.94}\n",
            "{'loss': 0.2978, 'grad_norm': 8.99663257598877, 'learning_rate': 2.0293569431500467e-05, 'epoch': 2.97}\n",
            "{'loss': 0.3006, 'grad_norm': 9.957554817199707, 'learning_rate': 2.000232991612302e-05, 'epoch': 3.0}\n",
            "{'loss': 0.2569, 'grad_norm': 7.747809410095215, 'learning_rate': 1.9711090400745573e-05, 'epoch': 3.03}\n",
            "{'loss': 0.2547, 'grad_norm': 8.05432415008545, 'learning_rate': 1.9419850885368127e-05, 'epoch': 3.06}\n",
            "{'loss': 0.257, 'grad_norm': 3.818277597427368, 'learning_rate': 1.912861136999068e-05, 'epoch': 3.09}\n",
            "{'loss': 0.255, 'grad_norm': 3.4416327476501465, 'learning_rate': 1.8837371854613232e-05, 'epoch': 3.12}\n",
            "{'loss': 0.2621, 'grad_norm': 4.831387519836426, 'learning_rate': 1.854613233923579e-05, 'epoch': 3.15}\n",
            "{'loss': 0.2623, 'grad_norm': 4.6254377365112305, 'learning_rate': 1.825489282385834e-05, 'epoch': 3.17}\n",
            "{'loss': 0.2667, 'grad_norm': 4.3913068771362305, 'learning_rate': 1.7963653308480895e-05, 'epoch': 3.2}\n",
            "{'loss': 0.2676, 'grad_norm': 5.690982818603516, 'learning_rate': 1.767241379310345e-05, 'epoch': 3.23}\n",
            "{'loss': 0.258, 'grad_norm': 4.0753254890441895, 'learning_rate': 1.7381174277726004e-05, 'epoch': 3.26}\n",
            "{'loss': 0.2592, 'grad_norm': 6.810830116271973, 'learning_rate': 1.7089934762348555e-05, 'epoch': 3.29}\n",
            "{'loss': 0.2627, 'grad_norm': 5.129023551940918, 'learning_rate': 1.679869524697111e-05, 'epoch': 3.32}\n",
            "{'loss': 0.2566, 'grad_norm': 2.5956826210021973, 'learning_rate': 1.6507455731593664e-05, 'epoch': 3.35}\n",
            "{'loss': 0.269, 'grad_norm': 6.4967169761657715, 'learning_rate': 1.6216216216216218e-05, 'epoch': 3.38}\n",
            "{'loss': 0.2617, 'grad_norm': 5.6720709800720215, 'learning_rate': 1.592497670083877e-05, 'epoch': 3.41}\n",
            "{'loss': 0.2696, 'grad_norm': 4.245920181274414, 'learning_rate': 1.5633737185461327e-05, 'epoch': 3.44}\n",
            "{'loss': 0.2625, 'grad_norm': 5.966910362243652, 'learning_rate': 1.5342497670083878e-05, 'epoch': 3.47}\n",
            "{'loss': 0.2599, 'grad_norm': 9.11250114440918, 'learning_rate': 1.5051258154706432e-05, 'epoch': 3.49}\n",
            "{'loss': 0.268, 'grad_norm': 7.228199481964111, 'learning_rate': 1.4760018639328985e-05, 'epoch': 3.52}\n",
            "{'loss': 0.2568, 'grad_norm': 2.759701728820801, 'learning_rate': 1.4468779123951539e-05, 'epoch': 3.55}\n",
            "{'loss': 0.2529, 'grad_norm': 4.681449890136719, 'learning_rate': 1.4177539608574092e-05, 'epoch': 3.58}\n",
            "{'loss': 0.262, 'grad_norm': 4.908970832824707, 'learning_rate': 1.3886300093196648e-05, 'epoch': 3.61}\n",
            "{'loss': 0.252, 'grad_norm': 2.704328775405884, 'learning_rate': 1.3595060577819199e-05, 'epoch': 3.64}\n",
            "{'loss': 0.2519, 'grad_norm': 3.663390874862671, 'learning_rate': 1.3303821062441751e-05, 'epoch': 3.67}\n",
            "{'loss': 0.2619, 'grad_norm': 6.346728324890137, 'learning_rate': 1.3012581547064306e-05, 'epoch': 3.7}\n",
            "{'loss': 0.2678, 'grad_norm': 8.064016342163086, 'learning_rate': 1.2721342031686858e-05, 'epoch': 3.73}\n",
            "{'loss': 0.2549, 'grad_norm': 4.440196514129639, 'learning_rate': 1.2430102516309414e-05, 'epoch': 3.76}\n",
            "{'loss': 0.2577, 'grad_norm': 3.9489336013793945, 'learning_rate': 1.2138863000931967e-05, 'epoch': 3.79}\n",
            "{'loss': 0.2617, 'grad_norm': 6.439907550811768, 'learning_rate': 1.1847623485554521e-05, 'epoch': 3.82}\n",
            "{'loss': 0.268, 'grad_norm': 5.076200485229492, 'learning_rate': 1.1556383970177074e-05, 'epoch': 3.84}\n",
            "{'loss': 0.2571, 'grad_norm': 2.799349308013916, 'learning_rate': 1.1265144454799628e-05, 'epoch': 3.87}\n",
            "{'loss': 0.2673, 'grad_norm': 4.2845001220703125, 'learning_rate': 1.0973904939422181e-05, 'epoch': 3.9}\n",
            "{'loss': 0.2625, 'grad_norm': 3.853235960006714, 'learning_rate': 1.0682665424044735e-05, 'epoch': 3.93}\n",
            "{'loss': 0.2623, 'grad_norm': 3.7505688667297363, 'learning_rate': 1.039142590866729e-05, 'epoch': 3.96}\n",
            "{'loss': 0.2482, 'grad_norm': 6.064060211181641, 'learning_rate': 1.0100186393289842e-05, 'epoch': 3.99}\n",
            "{'loss': 0.2358, 'grad_norm': 3.5674936771392822, 'learning_rate': 9.808946877912395e-06, 'epoch': 4.02}\n",
            "{'loss': 0.2277, 'grad_norm': 9.805386543273926, 'learning_rate': 9.51770736253495e-06, 'epoch': 4.05}\n",
            "{'loss': 0.2329, 'grad_norm': 5.679779052734375, 'learning_rate': 9.226467847157502e-06, 'epoch': 4.08}\n",
            "{'loss': 0.2254, 'grad_norm': 10.305167198181152, 'learning_rate': 8.935228331780056e-06, 'epoch': 4.11}\n",
            "{'loss': 0.2391, 'grad_norm': 13.519479751586914, 'learning_rate': 8.643988816402609e-06, 'epoch': 4.14}\n",
            "{'loss': 0.2256, 'grad_norm': 3.3911125659942627, 'learning_rate': 8.352749301025163e-06, 'epoch': 4.16}\n",
            "{'loss': 0.2328, 'grad_norm': 6.164821147918701, 'learning_rate': 8.061509785647716e-06, 'epoch': 4.19}\n",
            "{'loss': 0.2372, 'grad_norm': 8.06041145324707, 'learning_rate': 7.77027027027027e-06, 'epoch': 4.22}\n",
            "{'loss': 0.2384, 'grad_norm': 8.872525215148926, 'learning_rate': 7.479030754892824e-06, 'epoch': 4.25}\n",
            "{'loss': 0.2318, 'grad_norm': 14.591347694396973, 'learning_rate': 7.187791239515377e-06, 'epoch': 4.28}\n",
            "{'loss': 0.2329, 'grad_norm': 9.32451057434082, 'learning_rate': 6.896551724137932e-06, 'epoch': 4.31}\n",
            "{'loss': 0.2296, 'grad_norm': 11.140205383300781, 'learning_rate': 6.605312208760485e-06, 'epoch': 4.34}\n",
            "{'loss': 0.233, 'grad_norm': 6.354776859283447, 'learning_rate': 6.314072693383039e-06, 'epoch': 4.37}\n",
            "{'loss': 0.2316, 'grad_norm': 8.039665222167969, 'learning_rate': 6.022833178005592e-06, 'epoch': 4.4}\n",
            "{'loss': 0.2259, 'grad_norm': 2.977546215057373, 'learning_rate': 5.731593662628146e-06, 'epoch': 4.43}\n",
            "{'loss': 0.226, 'grad_norm': 4.010908603668213, 'learning_rate': 5.440354147250699e-06, 'epoch': 4.46}\n",
            "{'loss': 0.2361, 'grad_norm': 5.0181779861450195, 'learning_rate': 5.149114631873253e-06, 'epoch': 4.49}\n",
            "{'loss': 0.2283, 'grad_norm': 7.983767032623291, 'learning_rate': 4.857875116495807e-06, 'epoch': 4.51}\n",
            "{'loss': 0.2295, 'grad_norm': 9.29233455657959, 'learning_rate': 4.56663560111836e-06, 'epoch': 4.54}\n",
            "{'loss': 0.227, 'grad_norm': 4.468725204467773, 'learning_rate': 4.275396085740913e-06, 'epoch': 4.57}\n",
            "{'loss': 0.2217, 'grad_norm': 4.303513526916504, 'learning_rate': 3.984156570363467e-06, 'epoch': 4.6}\n",
            "{'loss': 0.2326, 'grad_norm': 5.0108184814453125, 'learning_rate': 3.6929170549860205e-06, 'epoch': 4.63}\n",
            "{'loss': 0.226, 'grad_norm': 4.752105236053467, 'learning_rate': 3.401677539608574e-06, 'epoch': 4.66}\n",
            "{'loss': 0.24, 'grad_norm': 6.477652072906494, 'learning_rate': 3.110438024231128e-06, 'epoch': 4.69}\n",
            "{'loss': 0.234, 'grad_norm': 7.353948593139648, 'learning_rate': 2.8191985088536814e-06, 'epoch': 4.72}\n",
            "{'loss': 0.2297, 'grad_norm': 5.21478796005249, 'learning_rate': 2.527958993476235e-06, 'epoch': 4.75}\n",
            "{'loss': 0.2307, 'grad_norm': 6.075537204742432, 'learning_rate': 2.2367194780987884e-06, 'epoch': 4.78}\n",
            "{'loss': 0.2343, 'grad_norm': 8.629650115966797, 'learning_rate': 1.9454799627213424e-06, 'epoch': 4.81}\n",
            "{'loss': 0.2231, 'grad_norm': 10.608306884765625, 'learning_rate': 1.6542404473438956e-06, 'epoch': 4.83}\n",
            "{'loss': 0.2421, 'grad_norm': 7.682137966156006, 'learning_rate': 1.3630009319664491e-06, 'epoch': 4.86}\n",
            "{'loss': 0.2311, 'grad_norm': 8.583806991577148, 'learning_rate': 1.0717614165890028e-06, 'epoch': 4.89}\n",
            "{'loss': 0.2192, 'grad_norm': 8.201615333557129, 'learning_rate': 7.805219012115564e-07, 'epoch': 4.92}\n",
            "{'loss': 0.231, 'grad_norm': 6.507298946380615, 'learning_rate': 4.892823858341099e-07, 'epoch': 4.95}\n",
            "{'loss': 0.2311, 'grad_norm': 7.176916599273682, 'learning_rate': 1.9804287045666357e-07, 'epoch': 4.98}\n",
            "{'train_runtime': 9329.6132, 'train_samples_per_second': 294.421, 'train_steps_per_second': 9.201, 'train_loss': 0.3179967384302827, 'epoch': 5.0}\n",
            "100% 85840/85840 [2:35:02<00:00,  9.23it/s]\n",
            "\u001b[1;34mwandb\u001b[0m: 🚀 View run \u001b[33m./trained_model/\u001b[0m at: \u001b[34mhttps://wandb.ai/skp4318-utaustin/huggingface/runs/42tpx0u4\u001b[0m\n",
            "\u001b[1;34mwandb\u001b[0m: Find logs at: \u001b[1;35mwandb/run-20241114_171627-42tpx0u4/logs\u001b[0m\n"
          ]
        }
      ],
      "source": [
        "!python3 run.py --do_train --task nli --dataset snli --per_device_train_batch_size 32 --num_train_epochs 5.0 --output_dir ./trained_model/"
      ]
    },
    {
      "cell_type": "code",
      "execution_count": 7,
      "metadata": {
        "id": "TADTTWaU58Tm",
        "colab": {
          "base_uri": "https://localhost:8080/"
        },
        "outputId": "daf732f2-1789-41a7-d951-851f4ab87485"
      },
      "outputs": [
        {
          "output_type": "stream",
          "name": "stdout",
          "text": [
            "2024-11-14 19:52:53.067506: E external/local_xla/xla/stream_executor/cuda/cuda_fft.cc:485] Unable to register cuFFT factory: Attempting to register factory for plugin cuFFT when one has already been registered\n",
            "2024-11-14 19:52:53.087142: E external/local_xla/xla/stream_executor/cuda/cuda_dnn.cc:8454] Unable to register cuDNN factory: Attempting to register factory for plugin cuDNN when one has already been registered\n",
            "2024-11-14 19:52:53.093084: E external/local_xla/xla/stream_executor/cuda/cuda_blas.cc:1452] Unable to register cuBLAS factory: Attempting to register factory for plugin cuBLAS when one has already been registered\n",
            "2024-11-14 19:52:53.107396: I tensorflow/core/platform/cpu_feature_guard.cc:210] This TensorFlow binary is optimized to use available CPU instructions in performance-critical operations.\n",
            "To enable the following instructions: AVX2 AVX512F FMA, in other operations, rebuild TensorFlow with the appropriate compiler flags.\n",
            "2024-11-14 19:52:54.115799: W tensorflow/compiler/tf2tensorrt/utils/py_utils.cc:38] TF-TRT Warning: Could not find TensorRT\n",
            "Preprocessing data... (this takes a little bit, should only happen once per dataset)\n",
            "/content/run.py:159: FutureWarning: `tokenizer` is deprecated and will be removed in version 5.0.0 for `Trainer.__init__`. Use `processing_class` instead.\n",
            "  trainer = trainer_class(\n",
            "100% 1231/1231 [00:15<00:00, 77.96it/s]\u001b[34m\u001b[1mwandb\u001b[0m: \u001b[33mWARNING\u001b[0m The `run_name` is currently set to the same value as `TrainingArguments.output_dir`. If this was not intended, please specify a different run name by setting the `TrainingArguments.run_name` parameter.\n",
            "\u001b[34m\u001b[1mwandb\u001b[0m: Using wandb-core as the SDK backend.  Please refer to https://wandb.me/wandb-core for more information.\n",
            "\u001b[34m\u001b[1mwandb\u001b[0m: Currently logged in as: \u001b[33mskp4318\u001b[0m (\u001b[33mskp4318-utaustin\u001b[0m). Use \u001b[1m`wandb login --relogin`\u001b[0m to force relogin\n",
            "\u001b[34m\u001b[1mwandb\u001b[0m: Tracking run with wandb version 0.18.6\n",
            "\u001b[34m\u001b[1mwandb\u001b[0m: Run data is saved locally in \u001b[35m\u001b[1m/content/wandb/run-20241114_195322-e9xu249l\u001b[0m\n",
            "\u001b[34m\u001b[1mwandb\u001b[0m: Run \u001b[1m`wandb offline`\u001b[0m to turn off syncing.\n",
            "\u001b[34m\u001b[1mwandb\u001b[0m: Syncing run \u001b[33m./eval_output/\u001b[0m\n",
            "\u001b[34m\u001b[1mwandb\u001b[0m: ⭐️ View project at \u001b[34m\u001b[4mhttps://wandb.ai/skp4318-utaustin/huggingface\u001b[0m\n",
            "\u001b[34m\u001b[1mwandb\u001b[0m: 🚀 View run at \u001b[34m\u001b[4mhttps://wandb.ai/skp4318-utaustin/huggingface/runs/e9xu249l\u001b[0m\n",
            "100% 1231/1231 [00:17<00:00, 69.23it/s]\n",
            "Evaluation results:\n",
            "{'eval_loss': 0.31481996178627014, 'eval_model_preparation_time': 0.0031, 'eval_accuracy': 0.9013411998748779, 'eval_runtime': 16.2787, 'eval_samples_per_second': 604.594, 'eval_steps_per_second': 75.62}\n",
            "\u001b[1;34mwandb\u001b[0m: 🚀 View run \u001b[33m./eval_output/\u001b[0m at: \u001b[34mhttps://wandb.ai/skp4318-utaustin/huggingface/runs/e9xu249l\u001b[0m\n",
            "\u001b[1;34mwandb\u001b[0m: Find logs at: \u001b[1;35mwandb/run-20241114_195322-e9xu249l/logs\u001b[0m\n"
          ]
        }
      ],
      "source": [
        "!python3 run.py --do_eval --task nli --dataset snli --model ./trained_model/ --output_dir ./eval_output/\n"
      ]
    },
    {
      "cell_type": "code",
      "source": [
        "!python3 run.py --do_eval --task nli --dataset snli --model ./trained_model/ --output_dir ./eval_output/"
      ],
      "metadata": {
        "colab": {
          "base_uri": "https://localhost:8080/"
        },
        "id": "A1ujWCDenb6N",
        "outputId": "71593906-a83d-4d2d-bea5-1ffae6c72756"
      },
      "execution_count": 8,
      "outputs": [
        {
          "output_type": "stream",
          "name": "stdout",
          "text": [
            "2024-11-14 21:39:58.109333: E external/local_xla/xla/stream_executor/cuda/cuda_fft.cc:485] Unable to register cuFFT factory: Attempting to register factory for plugin cuFFT when one has already been registered\n",
            "2024-11-14 21:39:58.129598: E external/local_xla/xla/stream_executor/cuda/cuda_dnn.cc:8454] Unable to register cuDNN factory: Attempting to register factory for plugin cuDNN when one has already been registered\n",
            "2024-11-14 21:39:58.135810: E external/local_xla/xla/stream_executor/cuda/cuda_blas.cc:1452] Unable to register cuBLAS factory: Attempting to register factory for plugin cuBLAS when one has already been registered\n",
            "2024-11-14 21:39:58.152556: I tensorflow/core/platform/cpu_feature_guard.cc:210] This TensorFlow binary is optimized to use available CPU instructions in performance-critical operations.\n",
            "To enable the following instructions: AVX2 AVX512F FMA, in other operations, rebuild TensorFlow with the appropriate compiler flags.\n",
            "2024-11-14 21:39:59.188379: W tensorflow/compiler/tf2tensorrt/utils/py_utils.cc:38] TF-TRT Warning: Could not find TensorRT\n",
            "Preprocessing data... (this takes a little bit, should only happen once per dataset)\n",
            "/content/run.py:159: FutureWarning: `tokenizer` is deprecated and will be removed in version 5.0.0 for `Trainer.__init__`. Use `processing_class` instead.\n",
            "  trainer = trainer_class(\n",
            "100% 1229/1231 [00:15<00:00, 78.96it/s]\u001b[34m\u001b[1mwandb\u001b[0m: \u001b[33mWARNING\u001b[0m The `run_name` is currently set to the same value as `TrainingArguments.output_dir`. If this was not intended, please specify a different run name by setting the `TrainingArguments.run_name` parameter.\n",
            "\u001b[34m\u001b[1mwandb\u001b[0m: Using wandb-core as the SDK backend.  Please refer to https://wandb.me/wandb-core for more information.\n",
            "\u001b[34m\u001b[1mwandb\u001b[0m: Currently logged in as: \u001b[33mskp4318\u001b[0m (\u001b[33mskp4318-utaustin\u001b[0m). Use \u001b[1m`wandb login --relogin`\u001b[0m to force relogin\n",
            "\u001b[34m\u001b[1mwandb\u001b[0m: Tracking run with wandb version 0.18.6\n",
            "\u001b[34m\u001b[1mwandb\u001b[0m: Run data is saved locally in \u001b[35m\u001b[1m/content/wandb/run-20241114_214028-v5hloz06\u001b[0m\n",
            "\u001b[34m\u001b[1mwandb\u001b[0m: Run \u001b[1m`wandb offline`\u001b[0m to turn off syncing.\n",
            "\u001b[34m\u001b[1mwandb\u001b[0m: Syncing run \u001b[33m./eval_output/\u001b[0m\n",
            "\u001b[34m\u001b[1mwandb\u001b[0m: ⭐️ View project at \u001b[34m\u001b[4mhttps://wandb.ai/skp4318-utaustin/huggingface\u001b[0m\n",
            "\u001b[34m\u001b[1mwandb\u001b[0m: 🚀 View run at \u001b[34m\u001b[4mhttps://wandb.ai/skp4318-utaustin/huggingface/runs/v5hloz06\u001b[0m\n",
            "100% 1231/1231 [00:17<00:00, 70.45it/s]\n",
            "Evaluation results:\n",
            "{'eval_loss': 0.31481996178627014, 'eval_model_preparation_time': 0.0031, 'eval_accuracy': 0.9013411998748779, 'eval_runtime': 16.3201, 'eval_samples_per_second': 603.06, 'eval_steps_per_second': 75.428}\n",
            "\u001b[1;34mwandb\u001b[0m: 🚀 View run \u001b[33m./eval_output/\u001b[0m at: \u001b[34mhttps://wandb.ai/skp4318-utaustin/huggingface/runs/v5hloz06\u001b[0m\n",
            "\u001b[1;34mwandb\u001b[0m: Find logs at: \u001b[1;35mwandb/run-20241114_214028-v5hloz06/logs\u001b[0m\n"
          ]
        }
      ]
    },
    {
      "cell_type": "code",
      "source": [
        "!zip -r /content/trained_model.zip zipped_files"
      ],
      "metadata": {
        "colab": {
          "base_uri": "https://localhost:8080/"
        },
        "id": "f82dIhNAoL15",
        "outputId": "af1677e8-840d-46e9-8a14-df8121d6a1a5"
      },
      "execution_count": 12,
      "outputs": [
        {
          "output_type": "stream",
          "name": "stdout",
          "text": [
            "  adding: zipped_files/ (stored 0%)\n"
          ]
        }
      ]
    },
    {
      "cell_type": "code",
      "source": [
        "# Create a new folder named 'zipped_files'\n",
        "!mkdir zipped_files\n",
        "\n"
      ],
      "metadata": {
        "id": "w5sYqfuVpVCk"
      },
      "execution_count": 11,
      "outputs": []
    },
    {
      "cell_type": "code",
      "source": [
        "import shutil\n",
        "from google.colab import files\n",
        "\n",
        "# Define the folder and zip file path\n",
        "folder_name = '/content/trained_model'  # Replace with your folder\n",
        "zip_path = '/content/trained_model.zip'  # The location of the zipped file\n",
        "\n",
        "# Zip the folder\n",
        "shutil.make_archive(zip_path.replace('.zip', ''), 'zip', folder_name)\n",
        "\n",
        "# Download the zipped file to your local machine\n",
        "files.download(zip_path)\n"
      ],
      "metadata": {
        "id": "lHfUR5QKqIrl"
      },
      "execution_count": null,
      "outputs": []
    },
    {
      "cell_type": "code",
      "source": [
        "!python3 run.py --do_eval --task nli --dataset snli --model ./trained_model/ --output_dir ./eval_output/"
      ],
      "metadata": {
        "id": "c26j-_nruH3r"
      },
      "execution_count": null,
      "outputs": []
    }
  ],
  "metadata": {
    "accelerator": "GPU",
    "colab": {
      "gpuType": "T4",
      "machine_shape": "hm",
      "provenance": [],
      "authorship_tag": "ABX9TyNzjsO9WGf9yauBTbP8my3z",
      "include_colab_link": true
    },
    "kernelspec": {
      "display_name": "Python 3",
      "name": "python3"
    },
    "language_info": {
      "name": "python"
    }
  },
  "nbformat": 4,
  "nbformat_minor": 0
}